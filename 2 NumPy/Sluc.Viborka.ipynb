{
 "cells": [
  {
   "cell_type": "markdown",
   "id": "8d4ed38b-afb1-474a-a4fe-a788a48c15f9",
   "metadata": {},
   "source": [
    "Основное различие заключается в том, что первый код выбирает случайные элементы из заданного массива с возможностью повторений, а второй код генерирует случайные числа в заданном диапазоне без повторений в пределах одной генерации."
   ]
  },
  {
   "cell_type": "code",
   "execution_count": 1,
   "id": "24b97e27-e0a5-45fe-9e17-55201138f0fb",
   "metadata": {},
   "outputs": [
    {
     "name": "stdout",
     "output_type": "stream",
     "text": [
      "[1.  1.  1.  0.5 1.5]\n"
     ]
    }
   ],
   "source": [
    "import numpy as np\n",
    "\n",
    "# Задаем параметры для генерации случайных чисел\n",
    "low = 1  # Минимальное значение (включительно)\n",
    "high = 4  # Максимальное значение (исключительно)\n",
    "size = 5  # Количество чисел\n",
    "\n",
    "# Генерируем случайные целые числа из диапазона [low, high) с помощью np.random.randint\n",
    "random_integers = np.random.randint(low, high, size)\n",
    "\n",
    "# Преобразуем целые числа в числа с плавающей точкой, разделив их на 2.0\n",
    "random_floats = random_integers / 2.0\n",
    "\n",
    "print(random_floats)\n"
   ]
  },
  {
   "cell_type": "code",
   "execution_count": 3,
   "id": "e1b8fa2b-0042-4bd4-881e-f12eedbd1b01",
   "metadata": {},
   "outputs": [
    {
     "name": "stdout",
     "output_type": "stream",
     "text": [
      "Выбранные числа из 70: [45 34 16 62 63]\n",
      "Выбранное число из 25: [17]\n"
     ]
    }
   ],
   "source": [
    "import numpy as np\n",
    "\n",
    "# Выбираем 5 случайных чисел из диапазона 1-70 (включительно)\n",
    "numbers_1_to_70 = np.random.choice(np.arange(1, 71), size=5, replace=False)\n",
    "\n",
    "# Выбираем 1 случайное число из диапазона 1-25 (включительно)\n",
    "number_1_to_25 = np.random.choice(np.arange(1, 26), size=1)\n",
    "\n",
    "# Выводим результат\n",
    "print(\"Выбранные числа из 70:\", numbers_1_to_70)\n",
    "print(\"Выбранное число из 25:\", number_1_to_25)\n"
   ]
  },
  {
   "cell_type": "code",
   "execution_count": null,
   "id": "246fcc04-4e6b-443d-93e1-912ed1a9d766",
   "metadata": {},
   "outputs": [],
   "source": []
  }
 ],
 "metadata": {
  "kernelspec": {
   "display_name": "Python 3 (ipykernel)",
   "language": "python",
   "name": "python3"
  },
  "language_info": {
   "codemirror_mode": {
    "name": "ipython",
    "version": 3
   },
   "file_extension": ".py",
   "mimetype": "text/x-python",
   "name": "python",
   "nbconvert_exporter": "python",
   "pygments_lexer": "ipython3",
   "version": "3.10.12"
  }
 },
 "nbformat": 4,
 "nbformat_minor": 5
}
