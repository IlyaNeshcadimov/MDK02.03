{
 "cells": [
  {
   "cell_type": "code",
   "execution_count": 7,
   "id": "3f4d8757-75b9-4a9d-b7fe-9d1de0ba960e",
   "metadata": {},
   "outputs": [
    {
     "name": "stdout",
     "output_type": "stream",
     "text": [
      "7.54 µs ± 146 ns per loop (mean ± std. dev. of 7 runs, 100,000 loops each)\n",
      "289 µs ± 39.2 µs per loop (mean ± std. dev. of 7 runs, 1,000 loops each)\n"
     ]
    }
   ],
   "source": [
    "import numpy as np\n",
    "\n",
    "# Генерируем случайные данные\n",
    "n = 1024  # Размер массива\n",
    "data = np.random.random(n)\n",
    "%timeit np.fft.fft(data)\n",
    "# Создаем массив с элементами exp(-2*pi*i*m*k/n)\n",
    "m, k = np.meshgrid(np.arange(n), np.arange(n))\n",
    "exponents = np.exp(-2j * np.pi * m * k / n)\n",
    "\n",
    "# Вычисляем F_m с использованием скалярного произведения\n",
    "F_m = np.dot(data, exponents)\n",
    "%timeit np.dot(data, exponents)"
   ]
  },
  {
   "cell_type": "markdown",
   "id": "83bce30a-a0c5-4b45-847d-58fd7540d7a7",
   "metadata": {},
   "source": [
    "Выборка случайным образом из массива a с заменой: для каждого выбранного элемента вероятность 6 равна 13 а вероятность 7 равна 23"
   ]
  }
 ],
 "metadata": {
  "kernelspec": {
   "display_name": "Python 3 (ipykernel)",
   "language": "python",
   "name": "python3"
  },
  "language_info": {
   "codemirror_mode": {
    "name": "ipython",
    "version": 3
   },
   "file_extension": ".py",
   "mimetype": "text/x-python",
   "name": "python",
   "nbconvert_exporter": "python",
   "pygments_lexer": "ipython3",
   "version": "3.10.12"
  }
 },
 "nbformat": 4,
 "nbformat_minor": 5
}
