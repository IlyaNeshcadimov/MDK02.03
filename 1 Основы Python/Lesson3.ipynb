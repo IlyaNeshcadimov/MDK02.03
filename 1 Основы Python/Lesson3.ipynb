{
 "cells": [
  {
   "cell_type": "code",
   "execution_count": 2,
   "id": "9c69235d-f5a2-4cd9-8be9-c92168f3d501",
   "metadata": {},
   "outputs": [
    {
     "name": "stdout",
     "output_type": "stream",
     "text": [
      "6\n",
      "31.5 µs ± 397 ns per loop (mean ± std. dev. of 7 runs, 10,000 loops each)\n",
      "32.1 µs ± 586 ns per loop (mean ± std. dev. of 7 runs, 10,000 loops each)\n"
     ]
    }
   ],
   "source": [
    "import math\n",
    "def count_factors(n):\n",
    "    count = 0\n",
    "    sqrt_n = int(math.sqrt(n))\n",
    "    for i in range(1, sqrt_n + 1):\n",
    "        if n % i == 0:\n",
    "            count += 2  # Учитываем и делитель, и соответствующий ему множитель\n",
    "    # Если n - полный квадрат, убираем лишний счетчик\n",
    "    if sqrt_n * sqrt_n == n:\n",
    "        count -= 1\n",
    "    return count\n",
    "\n",
    "# Пример использования\n",
    "n = 12\n",
    "print(count_factors(n))  # Вывод: 6 (1, 2, 3, 4, 6, 12)\n",
    "\n",
    "\n",
    "import math\n",
    "\n",
    "def count_factors_loop(n):\n",
    "    count = 0\n",
    "    sqrt_n = int(math.sqrt(n))\n",
    "    for i in range(1, sqrt_n + 1):\n",
    "        if n % i == 0:\n",
    "            count += 2\n",
    "    if sqrt_n * sqrt_n == n:\n",
    "        count -= 1\n",
    "    return count\n",
    "\n",
    "def count_factors_generator(n):\n",
    "    sqrt_n = int(math.sqrt(n))\n",
    "    factors = [(i, n // i) for i in range(1, sqrt_n + 1) if n % i == 0]\n",
    "    if sqrt_n * sqrt_n == n:\n",
    "        factors.pop()\n",
    "    return len(factors) * 2\n",
    "\n",
    "# Измерение времени выполнения для обоих вариантов\n",
    "n = 1000000\n",
    "%timeit count_factors_loop(n)\n",
    "%timeit count_factors_generator(n)"
   ]
  },
  {
   "cell_type": "code",
   "execution_count": 4,
   "id": "8c36a534-6b27-4aa6-b404-12e3b8fa9cc2",
   "metadata": {},
   "outputs": [
    {
     "name": "stdout",
     "output_type": "stream",
     "text": [
      "1.11 s ± 8.02 ms per loop (mean ± std. dev. of 7 runs, 1 loop each)\n"
     ]
    }
   ],
   "source": [
    "import math\n",
    "def count_factors(n):\n",
    "    count = 0\n",
    "    sqrt_n = int(math.sqrt(n))\n",
    "    for i in range(1, sqrt_n + 1):\n",
    "        if n % i == 0:\n",
    "            count += 2  # Учитываем и делитель, и соответствующий ему множитель\n",
    "    # Если n - полный квадрат, убираем лишний счетчик\n",
    "    if sqrt_n * sqrt_n == n:\n",
    "        count -= 1\n",
    "    return count\n",
    "\n",
    "def find_supercomposite_numbers(limit):\n",
    "    supercomposite_numbers = []\n",
    "    for n in range(2, limit):\n",
    "        if count_factors(n) > count_factors(n - 1):\n",
    "            supercomposite_numbers.append(n)\n",
    "    return supercomposite_numbers\n",
    "\n",
    "# Измерение времени выполнения\n",
    "%timeit find_supercomposite_numbers(100000)"
   ]
  }
 ],
 "metadata": {
  "kernelspec": {
   "display_name": "Python 3 (ipykernel)",
   "language": "python",
   "name": "python3"
  },
  "language_info": {
   "codemirror_mode": {
    "name": "ipython",
    "version": 3
   },
   "file_extension": ".py",
   "mimetype": "text/x-python",
   "name": "python",
   "nbconvert_exporter": "python",
   "pygments_lexer": "ipython3",
   "version": "3.10.12"
  }
 },
 "nbformat": 4,
 "nbformat_minor": 5
}
