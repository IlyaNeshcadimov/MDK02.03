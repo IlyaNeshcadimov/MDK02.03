{
 "cells": [
  {
   "cell_type": "code",
   "execution_count": 10,
   "id": "0fe8b5c4-db41-456b-a4ea-68187a3a673e",
   "metadata": {
    "scrolled": true
   },
   "outputs": [
    {
     "name": "stdout",
     "output_type": "stream",
     "text": [
      "Средняя скорость полета африканской ласточки: 10.311111111111112 м/с\n",
      "Количество строк с некорректными данными: 6\n"
     ]
    }
   ],
   "source": [
    "# Имя файла с данными\n",
    "filename = \"swallow-speeds.txt\"\n",
    "\n",
    "# Инициализация переменных для хранения данных\n",
    "speeds = []\n",
    "invalid_data_count = 0\n",
    "\n",
    "try:\n",
    "    # Открываем файл для чтения\n",
    "    with open(filename, \"r\") as file:\n",
    "        # Читаем данные построчно из файла\n",
    "        for line in file:\n",
    "            line = line.strip()  # Удаляем лишние пробелы и символы новой строки\n",
    "            if not line or line.endswith(\"#\"):\n",
    "                # Пропускаем пустые строки и строки с символом \"#\"\n",
    "                invalid_data_count += 1\n",
    "                continue\n",
    "            try:\n",
    "                # Преобразуем строку в число (скорость) и добавляем в список\n",
    "                speed = float(line)\n",
    "                speeds.append(speed)\n",
    "            except ValueError:\n",
    "                # Обработка ошибок преобразования строки в число\n",
    "                invalid_data_count += 1\n",
    "\n",
    "    # Проверяем, есть ли корректные данные\n",
    "    if len(speeds) > 0:\n",
    "        # Вычисляем среднюю скорость\n",
    "        average_speed = sum(speeds) / len(speeds)\n",
    "        print(\"Средняя скорость полета африканской ласточки:\", average_speed, \"м/с\")\n",
    "    else:\n",
    "        print(\"Нет корректных данных для вычисления средней скорости.\")\n",
    "\n",
    "    # Выводим количество строк с некорректными данными\n",
    "    print(\"Количество строк с некорректными данными:\", invalid_data_count)\n",
    "\n",
    "except FileNotFoundError:\n",
    "    print(f\"Файл '{filename}' не найден.\")\n",
    "except Exception as e:\n",
    "    print(\"Произошла ошибка при обработке файла:\", str(e))\n",
    "\n",
    "# Этот код открывает файл, читает данные из него построчно, игнорирует пустые строки и строки с символом \"#\", \n",
    "# а также обрабатывает ошибки при попытке преобразования строки в число. \n",
    "# Затем он вычисляет среднюю скорость полета на основе корректных данных и выводит результат."
   ]
  },
  {
   "cell_type": "code",
   "execution_count": 11,
   "id": "2f5da762-aadc-4519-913a-0ec3bc9d246c",
   "metadata": {},
   "outputs": [
    {
     "name": "stdout",
     "output_type": "stream",
     "text": [
      "Произошла ошибка: Элемент вектора должен быть действительным числом\n"
     ]
    }
   ],
   "source": [
    "def str_vector(v):\n",
    "    assert isinstance(v, (list, tuple)), 'Аргумент для str_vector должен быть списком или кортежем'\n",
    "    assert len(v) in (2, 3), 'Вектор должен быть 2D или 3D в str_vector'\n",
    "    \n",
    "    for component in v:\n",
    "        assert isinstance(component, (int, float)), 'Элемент вектора должен быть действительным числом'\n",
    "\n",
    "    unit_vectors = ['i', 'j', 'k']\n",
    "    components = []\n",
    "\n",
    "    for i, component in enumerate(v):\n",
    "        if component != 0:\n",
    "            components.append('{}{}'.format(component, unit_vectors[i]))\n",
    "\n",
    "    if not components:\n",
    "        return '0'\n",
    "\n",
    "    return '+'.join(components).replace('+-', '-')\n",
    "\n",
    "# Пример использования с некорректным элементом (строка)\n",
    "try:\n",
    "    print(str_vector([-2, 3.5, 'a']))\n",
    "except AssertionError as e:\n",
    "    print(f'Произошла ошибка: {e}')"
   ]
  },
  {
   "cell_type": "code",
   "execution_count": 12,
   "id": "49128cf9-35ae-4588-ab12-ca490213b535",
   "metadata": {},
   "outputs": [
    {
     "name": "stdout",
     "output_type": "stream",
     "text": [
      "8.0\n",
      "0.0\n",
      "Произошла ошибка: Both base and exponent cannot be zero.\n"
     ]
    }
   ],
   "source": [
    "import math\n",
    "\n",
    "def powr(a, b):\n",
    "    if a == 0 and b == 0:\n",
    "        raise ValueError(\"Both base and exponent cannot be zero.\")\n",
    "    return math.pow(a, b)\n",
    "\n",
    "# Примеры использования\n",
    "try:\n",
    "    result = powr(2, 3)\n",
    "    print(result)\n",
    "\n",
    "    result = powr(0, 5)\n",
    "    print(result)\n",
    "\n",
    "    result = powr(0, 0) #ValueError\n",
    "    print(result)\n",
    "except ValueError as e:\n",
    "    print(f\"Произошла ошибка: {e}\")\n",
    "\n",
    "# Эта функция сначала проверяет, равны ли a и b нулю. \n",
    "# если оба равны нулю, то она генерирует исключение ValueError, \n",
    "# в противном случае она использует math.pow для вычисления значения."
   ]
  }
 ],
 "metadata": {
  "kernelspec": {
   "display_name": "Python 3 (ipykernel)",
   "language": "python",
   "name": "python3"
  },
  "language_info": {
   "codemirror_mode": {
    "name": "ipython",
    "version": 3
   },
   "file_extension": ".py",
   "mimetype": "text/x-python",
   "name": "python",
   "nbconvert_exporter": "python",
   "pygments_lexer": "ipython3",
   "version": "3.10.12"
  }
 },
 "nbformat": 4,
 "nbformat_minor": 5
}
