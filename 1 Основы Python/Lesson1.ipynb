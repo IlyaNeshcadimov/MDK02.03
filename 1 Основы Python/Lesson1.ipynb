{
 "cells": [
  {
   "cell_type": "markdown",
   "id": "67da7ebf-4c99-4efa-a8c2-97ab630df7ec",
   "metadata": {},
   "source": [
    "Первый способ будет использовать оператора \"^\" - битовое исключающее ИЛИ, оператор ^ выполняет операцию XOR для каждой пары битов в двоичном представлении чисел и возвращает соответствующий бит в результирующем числе."
   ]
  },
  {
   "cell_type": "code",
   "execution_count": 27,
   "id": "b3a38b15-dd26-40b4-ac6c-06efe96426e0",
   "metadata": {},
   "outputs": [],
   "source": [
    "def xor_operator(a, b):\n",
    "    return a ^ b\n",
    "    \n",
    "#Проверка\n",
    "a = 5  # бинарное представление: 0101\n",
    "b = 3  # бинарное представление: 0011\n",
    "\n",
    "result = a ^ b  # Результат XOR: 0110 (бинарно) или 6 (десятично)"
   ]
  },
  {
   "cell_type": "markdown",
   "id": "95291b92-f2c9-47e3-b0f8-636b45113560",
   "metadata": {},
   "source": [
    "Второй способ использует выражение (a and not b) or (not a and b) вернет True только в случае, когда a и b имеют разные значения (True и False или False и True). "
   ]
  },
  {
   "cell_type": "code",
   "execution_count": 28,
   "id": "294e7ce9-7acf-4638-9c60-b4c3fefb0083",
   "metadata": {},
   "outputs": [],
   "source": [
    "def xor_logical(a, b):\n",
    "    return (a or b) and not (a and b)\n",
    "\n",
    "#Проверка\n",
    "a = True\n",
    "b = True\n",
    "result = (a and not b) or (not a and b)  # Результат: False\n",
    "\n",
    "a = False\n",
    "b = True\n",
    "result = (a and not b) or (not a and b)  # Результат: True"
   ]
  },
  {
   "cell_type": "markdown",
   "id": "a4217b6a-0e26-4a62-b4c7-f8d4a81a2fe1",
   "metadata": {},
   "source": [
    "**А**\n",
    "Особенности чисел sin(2017 * 5√2) и (π + 20)i:\n",
    "sin(2017 * 5√2) - Это вычисление синуса угла, равного 2017 * 5√2 радиан. Особенностью этого числа является его зависимость от значения корня из 2. \n",
    "Ответ зависит от точного значения 5√2. Если точное значение не известно, то результат будет приближенным значением синуса этого угла."
   ]
  },
  {
   "cell_type": "markdown",
   "id": "ef69168e-ae1c-412b-a4b3-c6853090344a",
   "metadata": {},
   "source": [
    "**Б**\n",
    "e1000 - Экспоненциальное число e в степени 1000. \n",
    "Это число очень большое и не может быть представлено с использованием стандартного типа с плавающей точкой с двойной точностью. \n",
    "При попытке вычислить его, вероятно, будет получено бесконечное значение inf."
   ]
  },
  {
   "cell_type": "markdown",
   "id": "15c2f2d7-9aae-4c82-9f0f-a2a95f5b1c59",
   "metadata": {},
   "source": [
    "**Г**\n",
    "Вычисления длины гипотенузы с использованием функции math.hypot()"
   ]
  },
  {
   "cell_type": "code",
   "execution_count": 29,
   "id": "791bec25-d4e9-4487-9bce-2bfd5567b02c",
   "metadata": {},
   "outputs": [
    {
     "name": "stdout",
     "output_type": "stream",
     "text": [
      "3.503212811120672e+201\n"
     ]
    }
   ],
   "source": [
    "import math\n",
    "a = 1.5e200  # Первый катет\n",
    "b = 3.5e201  # Второй катет\n",
    "\n",
    "c = math.hypot(a, b)  # Вычисление гипотенузы\n",
    "print(c)"
   ]
  },
  {
   "cell_type": "markdown",
   "id": "5901e9ee-5ad4-4a29-b6dc-4727f0738f83",
   "metadata": {},
   "source": [
    "Вычисления длины гипотенузы без использования функции math.hypot() по теореме Пифагора"
   ]
  },
  {
   "cell_type": "code",
   "execution_count": 30,
   "id": "ea0eaca8-ef20-4ec8-9d91-a45fa7d482b7",
   "metadata": {
    "scrolled": true
   },
   "outputs": [
    {
     "ename": "OverflowError",
     "evalue": "(34, 'Numerical result out of range')",
     "output_type": "error",
     "traceback": [
      "\u001b[0;31m---------------------------------------------------------------------------\u001b[0m",
      "\u001b[0;31mOverflowError\u001b[0m                             Traceback (most recent call last)",
      "Cell \u001b[0;32mIn[30], line 5\u001b[0m\n\u001b[1;32m      2\u001b[0m a \u001b[38;5;241m=\u001b[39m \u001b[38;5;241m1.5e200\u001b[39m  \u001b[38;5;66;03m# Первый катет\u001b[39;00m\n\u001b[1;32m      3\u001b[0m b \u001b[38;5;241m=\u001b[39m \u001b[38;5;241m3.5e201\u001b[39m  \u001b[38;5;66;03m# Второй катет\u001b[39;00m\n\u001b[0;32m----> 5\u001b[0m c \u001b[38;5;241m=\u001b[39m math\u001b[38;5;241m.\u001b[39msqrt(\u001b[43ma\u001b[49m\u001b[38;5;241;43m*\u001b[39;49m\u001b[38;5;241;43m*\u001b[39;49m\u001b[38;5;241;43m2\u001b[39;49m \u001b[38;5;241m+\u001b[39m b\u001b[38;5;241m*\u001b[39m\u001b[38;5;241m*\u001b[39m\u001b[38;5;241m2\u001b[39m)  \u001b[38;5;66;03m# Вычисление гипотенузы по теореме Пифагора\u001b[39;00m\n\u001b[1;32m      6\u001b[0m \u001b[38;5;28mprint\u001b[39m(c)\n",
      "\u001b[0;31mOverflowError\u001b[0m: (34, 'Numerical result out of range')"
     ]
    }
   ],
   "source": [
    "import math\n",
    "a = 1.5e200  # Первый катет\n",
    "b = 3.5e201  # Второй катет\n",
    "\n",
    "c = math.sqrt(a**2 + b**2)  # Вычисление гипотенузы по теореме Пифагора\n",
    "print(c)"
   ]
  },
  {
   "cell_type": "markdown",
   "id": "319b81bc-7090-4c17-840e-588903279ede",
   "metadata": {},
   "source": [
    "Гипотенузы в данном случае может вызвать переполнение из-за огромных значений a и b, и результат может быть бесконечностью или inf"
   ]
  },
  {
   "cell_type": "code",
   "execution_count": 31,
   "id": "5f4d8e19-fd66-41ac-a093-b97e2090bd5f",
   "metadata": {},
   "outputs": [
    {
     "name": "stdout",
     "output_type": "stream",
     "text": [
      "1\n",
      "-1\n"
     ]
    }
   ],
   "source": [
    "import math\n",
    "\n",
    "def sign(a):\n",
    "    return int(math.copysign(1, a))\n",
    "\n",
    "# Примеры использования:\n",
    "x = 5\n",
    "y = -3\n",
    "print(sign(x))  # Вывод: 1 (положительное число)\n",
    "print(sign(y))  # Вывод: -1 (отрицательное число)"
   ]
  },
  {
   "cell_type": "code",
   "execution_count": 32,
   "id": "22336f11-9b23-4f10-b759-2c663b07b225",
   "metadata": {},
   "outputs": [
    {
     "name": "stdout",
     "output_type": "stream",
     "text": [
      "Площадь поверхности сжатого у полюсов сфероида: 510065621724078.94 кв. м\n",
      "Площадь поверхности Земли (сферы): 510064471.90978825 кв. км\n",
      "Площадь поверхности Земли (сферы) в квадратных метрах: 510064471909788.25 кв. м\n",
      "Разница между площадью сжатого у полюсов сфероида и площадью Земли (сферы): 1149814290.6875 кв. м\n"
     ]
    }
   ],
   "source": [
    "import math\n",
    "\n",
    "# Заданные параметры эллипсоида\n",
    "a = 6378137.0\n",
    "c = 6356752.314245\n",
    "\n",
    "# Вычисление квадрата эксцентриситета\n",
    "e_squared = 1 - (c**2 / a**2)\n",
    "\n",
    "# Вычисление площади поверхности сжатого у полюсов сфероида\n",
    "S = 2 * math.pi * a**2 * (1 + ((1 - e_squared) / math.sqrt(e_squared)) * math.atanh(math.sqrt(e_squared)))\n",
    "print(\"Площадь поверхности сжатого у полюсов сфероида:\", S, \"кв. м\")\n",
    "\n",
    "# Радиус Земли в километрах\n",
    "radius_earth_sphere = 6371  # км\n",
    "\n",
    "# Площадь поверхности Земли (сферы)\n",
    "S_sphere = 4 * math.pi * radius_earth_sphere**2\n",
    "print(\"Площадь поверхности Земли (сферы):\", S_sphere, \"кв. км\")\n",
    "\n",
    "# Переводим площадь сферы в квадратные метры для сравнения\n",
    "S_sphere_m2 = S_sphere * 1e6\n",
    "print(\"Площадь поверхности Земли (сферы) в квадратных метрах:\", S_sphere_m2, \"кв. м\")\n",
    "\n",
    "# Сравниваем площади\n",
    "difference = abs(S - S_sphere_m2)\n",
    "print(\"Разница между площадью сжатого у полюсов сфероида и площадью Земли (сферы):\", difference, \"кв. м\")\n"
   ]
  },
  {
   "cell_type": "code",
   "execution_count": null,
   "id": "dec6443b-570e-495c-900e-9dc9e37c1a5f",
   "metadata": {},
   "outputs": [],
   "source": []
  }
 ],
 "metadata": {
  "kernelspec": {
   "display_name": "Python 3 (ipykernel)",
   "language": "python",
   "name": "python3"
  },
  "language_info": {
   "codemirror_mode": {
    "name": "ipython",
    "version": 3
   },
   "file_extension": ".py",
   "mimetype": "text/x-python",
   "name": "python",
   "nbconvert_exporter": "python",
   "pygments_lexer": "ipython3",
   "version": "3.10.12"
  }
 },
 "nbformat": 4,
 "nbformat_minor": 5
}
