{
 "cells": [
  {
   "cell_type": "code",
   "execution_count": 5,
   "id": "b31745f5-a720-4e33-af1b-272c5f13b1d2",
   "metadata": {},
   "outputs": [
    {
     "name": "stdout",
     "output_type": "stream",
     "text": [
      "1.11 s ± 11.2 ms per loop (mean ± std. dev. of 7 runs, 1 loop each)\n"
     ]
    }
   ],
   "source": [
    "import math\n",
    "\n",
    "def count_factors(n):\n",
    "    count = 0\n",
    "    sqrt_n = int(math.sqrt(n))\n",
    "    for i in range(1, sqrt_n + 1):\n",
    "        if n % i == 0:\n",
    "            count += 2  # Учитываем и делитель, и соответствующий ему множитель\n",
    "    # Если n - полный квадрат, убираем лишний счетчик\n",
    "    if sqrt_n * sqrt_n == n:\n",
    "        count -= 1\n",
    "    return count\n",
    "\n",
    "def find_supercomposite_numbers(limit):\n",
    "    supercomposite_numbers = []\n",
    "    for n in range(2, limit):\n",
    "        if count_factors(n) > count_factors(n - 1):\n",
    "            supercomposite_numbers.append(n)\n",
    "    return supercomposite_numbers\n",
    "\n",
    "# Измерение времени выполнения\n",
    "%timeit find_supercomposite_numbers(100000)"
   ]
  },
  {
   "cell_type": "code",
   "execution_count": 6,
   "id": "b0f0f855-2e23-4265-afd7-c19f086eb67a",
   "metadata": {},
   "outputs": [
    {
     "name": "stdout",
     "output_type": "stream",
     "text": [
      "Константа Гаусса G = 0.8346268416740731\n"
     ]
    }
   ],
   "source": [
    "import math\n",
    "\n",
    "def arithmetic_geometric_mean(x, y, epsilon=1e-10, max_iterations=1000):\n",
    "    a = x\n",
    "    b = y\n",
    "    \n",
    "    iteration = 0\n",
    "    while iteration < max_iterations:\n",
    "        a_next = 0.5 * (a + b)\n",
    "        b_next = math.sqrt(a * b)\n",
    "        \n",
    "        if abs(a_next - a) < epsilon and abs(b_next - b) < epsilon:\n",
    "            return (a_next + b_next) / 2.0\n",
    "        \n",
    "        a = a_next\n",
    "        b = b_next\n",
    "        iteration += 1\n",
    "\n",
    "    raise Exception(\"Не удалось достичь необходимой точности\")\n",
    "\n",
    "# Вычисление константы Гаусса\n",
    "G = 1 / arithmetic_geometric_mean(1, math.sqrt(2))\n",
    "\n",
    "print(\"Константа Гаусса G =\", G)"
   ]
  },
  {
   "cell_type": "code",
   "execution_count": 3,
   "id": "275d95fd-9a1b-43a8-9bbd-7916af720c9d",
   "metadata": {},
   "outputs": [
    {
     "name": "stdout",
     "output_type": "stream",
     "text": [
      "1\n",
      "2\n",
      "Fizz\n",
      "4\n",
      "Buzz\n",
      "Fizz\n",
      "7\n",
      "8\n",
      "Fizz\n",
      "Buzz\n",
      "11\n",
      "Fizz\n",
      "13\n",
      "14\n",
      "FizzBuzz\n",
      "16\n",
      "17\n",
      "Fizz\n",
      "19\n",
      "Buzz\n",
      "Fizz\n",
      "22\n",
      "23\n",
      "Fizz\n",
      "Buzz\n",
      "26\n",
      "Fizz\n",
      "28\n",
      "29\n",
      "FizzBuzz\n",
      "31\n",
      "32\n",
      "Fizz\n",
      "34\n",
      "Buzz\n",
      "Fizz\n",
      "37\n",
      "38\n",
      "Fizz\n",
      "Buzz\n",
      "41\n",
      "Fizz\n",
      "43\n",
      "44\n",
      "FizzBuzz\n",
      "46\n",
      "47\n",
      "Fizz\n",
      "49\n",
      "Buzz\n",
      "Fizz\n",
      "52\n",
      "53\n",
      "Fizz\n",
      "Buzz\n",
      "56\n",
      "Fizz\n",
      "58\n",
      "59\n",
      "FizzBuzz\n",
      "61\n",
      "62\n",
      "Fizz\n",
      "64\n",
      "Buzz\n",
      "Fizz\n",
      "67\n",
      "68\n",
      "Fizz\n",
      "Buzz\n",
      "71\n",
      "Fizz\n",
      "73\n",
      "74\n",
      "FizzBuzz\n",
      "76\n",
      "77\n",
      "Fizz\n",
      "79\n",
      "Buzz\n",
      "Fizz\n",
      "82\n",
      "83\n",
      "Fizz\n",
      "Buzz\n",
      "86\n",
      "Fizz\n",
      "88\n",
      "89\n",
      "FizzBuzz\n",
      "91\n",
      "92\n",
      "Fizz\n",
      "94\n",
      "Buzz\n",
      "Fizz\n",
      "97\n",
      "98\n",
      "Fizz\n",
      "Buzz\n"
     ]
    }
   ],
   "source": [
    "for number in range(1, 101):\n",
    "    if number % 3 == 0 and number % 5 == 0:\n",
    "        print(\"FizzBuzz\")\n",
    "    elif number % 3 == 0:\n",
    "        print(\"Fizz\")\n",
    "    elif number % 5 == 0:\n",
    "        print(\"Buzz\")\n",
    "    else:\n",
    "        print(number)"
   ]
  },
  {
   "cell_type": "code",
   "execution_count": 7,
   "id": "53abadaf-7ebf-471d-9f33-40b0d6cba091",
   "metadata": {},
   "outputs": [
    {
     "name": "stdout",
     "output_type": "stream",
     "text": [
      "H3C-CH2-CH2-CH2-CH2-CH2-CH2-CH2-CH3\n"
     ]
    }
   ],
   "source": [
    "def generate_alkane_structure(stoichiometry):\n",
    "    if not stoichiometry.startswith('C') or 'H' not in stoichiometry:\n",
    "        print(\"Некорректный формат стехиометрии.\")\n",
    "        return\n",
    "\n",
    "    # Разбиваем стехиометрию на количество атомов углерода и водорода\n",
    "    carbon_count = int(stoichiometry[1:stoichiometry.index('H')])\n",
    "    hydrogen_count = int(stoichiometry[stoichiometry.index('H')+1:])\n",
    "\n",
    "    # Генерируем структурную формулу алкана\n",
    "    structure = 'H3C'\n",
    "    for i in range(carbon_count - 1):\n",
    "        structure += '-CH2'\n",
    "    structure += f'-CH3'\n",
    "\n",
    "    return structure\n",
    "\n",
    "# Пример использования\n",
    "stoichiometry = 'C8H18'\n",
    "result = generate_alkane_structure(stoichiometry)\n",
    "if result:\n",
    "    print(result)"
   ]
  },
  {
   "cell_type": "code",
   "execution_count": null,
   "id": "efb8f5a8-8009-41c1-aaf0-0254bf849b4e",
   "metadata": {},
   "outputs": [],
   "source": []
  }
 ],
 "metadata": {
  "kernelspec": {
   "display_name": "Python 3 (ipykernel)",
   "language": "python",
   "name": "python3"
  },
  "language_info": {
   "codemirror_mode": {
    "name": "ipython",
    "version": 3
   },
   "file_extension": ".py",
   "mimetype": "text/x-python",
   "name": "python",
   "nbconvert_exporter": "python",
   "pygments_lexer": "ipython3",
   "version": "3.10.12"
  }
 },
 "nbformat": 4,
 "nbformat_minor": 5
}
