{
 "cells": [
  {
   "cell_type": "code",
   "execution_count": 4,
   "id": "30c54286-12d4-4b12-8592-0be7fdb91b48",
   "metadata": {
    "scrolled": true
   },
   "outputs": [
    {
     "data": {
      "text/plain": [
       "(0.0012644892673496185, 1.1126990906558069e-14)"
      ]
     },
     "execution_count": 4,
     "metadata": {},
     "output_type": "execute_result"
    }
   ],
   "source": [
    "import numpy as np\n",
    "from scipy.integrate import quad\n",
    "f1 = lambda x: x**4 * (1 - x)**4/(1 + x**2)\n",
    "quad(f1, 0, 1)"
   ]
  },
  {
   "cell_type": "markdown",
   "id": "4f0c3695-fbb5-45bc-8c1d-03c90fc8de4e",
   "metadata": {},
   "source": [
    "A"
   ]
  },
  {
   "cell_type": "code",
   "execution_count": 5,
   "id": "bbbee377-b7e5-4ba7-b411-3f258074010b",
   "metadata": {},
   "outputs": [
    {
     "data": {
      "text/plain": [
       "0.0012644892673496777"
      ]
     },
     "execution_count": 5,
     "metadata": {},
     "output_type": "execute_result"
    }
   ],
   "source": [
    "22/7 - np.pi"
   ]
  },
  {
   "cell_type": "code",
   "execution_count": null,
   "id": "544b8ded-0049-4267-83de-8e9bcce8e968",
   "metadata": {},
   "outputs": [],
   "source": [
    "B"
   ]
  },
  {
   "cell_type": "code",
   "execution_count": 11,
   "id": "75a64b03-7bda-4185-ac4c-2daa84b5d462",
   "metadata": {},
   "outputs": [
    {
     "name": "stderr",
     "output_type": "stream",
     "text": [
      "/tmp/ipykernel_22616/3340848943.py:1: RuntimeWarning: overflow encountered in exp\n",
      "  f2 = lambda x: x**3/(np.exp(x) - 1)\n"
     ]
    },
    {
     "data": {
      "text/plain": [
       "(6.49393940226683, 2.6284700289923758e-09)"
      ]
     },
     "execution_count": 11,
     "metadata": {},
     "output_type": "execute_result"
    }
   ],
   "source": [
    "f2 = lambda x: x**3/(np.exp(x) - 1)\n",
    "quad(f2, 0, np.inf)"
   ]
  },
  {
   "cell_type": "code",
   "execution_count": 12,
   "id": "3bd8a0ac-a606-4ec5-86ae-b2a504d0288a",
   "metadata": {},
   "outputs": [
    {
     "data": {
      "text/plain": [
       "6.493939402266828"
      ]
     },
     "execution_count": 12,
     "metadata": {},
     "output_type": "execute_result"
    }
   ],
   "source": [
    "np.pi**4 / 15"
   ]
  },
  {
   "cell_type": "markdown",
   "id": "73e2f4c1-aee0-46f4-8963-6e2d793712f6",
   "metadata": {},
   "source": [
    "C"
   ]
  },
  {
   "cell_type": "code",
   "execution_count": 13,
   "id": "45b3e2b0-1536-4eab-9233-91358b0fe085",
   "metadata": {},
   "outputs": [
    {
     "data": {
      "text/plain": [
       "(1.2912859970626633, 3.668398917966442e-11)"
      ]
     },
     "execution_count": 13,
     "metadata": {},
     "output_type": "execute_result"
    }
   ],
   "source": [
    "f3 = lambda x: x**-x\n",
    "quad(f3, 0, 1)"
   ]
  },
  {
   "cell_type": "code",
   "execution_count": 14,
   "id": "4cba1d95-eb4f-4f7c-8521-0ec8a3efce5d",
   "metadata": {},
   "outputs": [],
   "source": [
    "n, I, TOL = 0, 0, 1.e-16\n",
    "while True:\n",
    "    Iold = I\n",
    "    n += 1\n",
    "    I += n**-n\n",
    "    if I-Iold < TOL:\n",
    "        break\n"
   ]
  },
  {
   "cell_type": "code",
   "execution_count": 15,
   "id": "26160aab-bbe8-420f-a4f8-5f4419e557ad",
   "metadata": {},
   "outputs": [
    {
     "data": {
      "text/plain": [
       "1.2912859970626636"
      ]
     },
     "execution_count": 15,
     "metadata": {},
     "output_type": "execute_result"
    }
   ],
   "source": [
    "I"
   ]
  },
  {
   "cell_type": "markdown",
   "id": "da6061dc-cfb0-4b4d-b620-bfe476df7e92",
   "metadata": {},
   "source": [
    "D"
   ]
  },
  {
   "cell_type": "code",
   "execution_count": 17,
   "id": "99c5ddea-fc15-45c5-8936-b0b59f7b2d0e",
   "metadata": {},
   "outputs": [
    {
     "ename": "ImportError",
     "evalue": "cannot import name 'factorial' from 'scipy.misc' (/home/shugar/my_project_dir/my_project_env/lib/python3.10/site-packages/scipy/misc/__init__.py)",
     "output_type": "error",
     "traceback": [
      "\u001b[0;31m---------------------------------------------------------------------------\u001b[0m",
      "\u001b[0;31mImportError\u001b[0m                               Traceback (most recent call last)",
      "Cell \u001b[0;32mIn[17], line 1\u001b[0m\n\u001b[0;32m----> 1\u001b[0m \u001b[38;5;28;01mfrom\u001b[39;00m \u001b[38;5;21;01mscipy\u001b[39;00m\u001b[38;5;21;01m.\u001b[39;00m\u001b[38;5;21;01mmisc\u001b[39;00m \u001b[38;5;28;01mimport\u001b[39;00m factorial\n\u001b[1;32m      2\u001b[0m f4 \u001b[38;5;241m=\u001b[39m \u001b[38;5;28;01mlambda\u001b[39;00m x, p: np\u001b[38;5;241m.\u001b[39mlog(\u001b[38;5;241m1\u001b[39m\u001b[38;5;241m/\u001b[39mx)\u001b[38;5;241m*\u001b[39m\u001b[38;5;241m*\u001b[39mp\n\u001b[1;32m      3\u001b[0m \u001b[38;5;28;01mfor\u001b[39;00m p \u001b[38;5;129;01min\u001b[39;00m \u001b[38;5;28mrange\u001b[39m(\u001b[38;5;241m10\u001b[39m):\n",
      "\u001b[0;31mImportError\u001b[0m: cannot import name 'factorial' from 'scipy.misc' (/home/shugar/my_project_dir/my_project_env/lib/python3.10/site-packages/scipy/misc/__init__.py)"
     ]
    }
   ],
   "source": [
    "from scipy.misc import factorial\n",
    "f4 = lambda x, p: np.log(1/x)**p\n",
    "for p in range(10):\n",
    "    print(quad(f4, 0, 1, args=(p,))[0], factorial(p))"
   ]
  },
  {
   "cell_type": "markdown",
   "id": "466f4076-4f83-4d10-acf7-88df7e775e0a",
   "metadata": {},
   "source": [
    "E"
   ]
  },
  {
   "cell_type": "code",
   "execution_count": 19,
   "id": "7791740e-c19a-47c9-a906-a47d7752438e",
   "metadata": {},
   "outputs": [
    {
     "data": {
      "text/plain": [
       "3.4796610037801656e-12"
      ]
     },
     "execution_count": 19,
     "metadata": {},
     "output_type": "execute_result"
    }
   ],
   "source": [
    "from scipy.special import i0\n",
    "z = np.linspace(0,2,100)\n",
    "y1 = i0(z)\n",
    "f5 = lambda theta, z: np.exp(z*np.cos(theta))\n",
    "y2 = np.array([quad(f5, 0, 2*np.pi, args=(zz,))[0] for zz in z])\n",
    "y2 /= 2 * np.pi\n",
    "np.max(abs(y2-y1))"
   ]
  },
  {
   "cell_type": "code",
   "execution_count": null,
   "id": "f1734513-0aa9-41b5-8040-9f3042501bf6",
   "metadata": {},
   "outputs": [],
   "source": []
  }
 ],
 "metadata": {
  "kernelspec": {
   "display_name": "Python 3 (ipykernel)",
   "language": "python",
   "name": "python3"
  },
  "language_info": {
   "codemirror_mode": {
    "name": "ipython",
    "version": 3
   },
   "file_extension": ".py",
   "mimetype": "text/x-python",
   "name": "python",
   "nbconvert_exporter": "python",
   "pygments_lexer": "ipython3",
   "version": "3.10.12"
  }
 },
 "nbformat": 4,
 "nbformat_minor": 5
}
